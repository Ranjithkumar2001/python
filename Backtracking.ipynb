{
 "cells": [
  {
   "cell_type": "code",
   "execution_count": 10,
   "id": "6118a53a",
   "metadata": {},
   "outputs": [
    {
     "name": "stdout",
     "output_type": "stream",
     "text": [
      "[0, 1, 0, 0]\n",
      "[0, 0, 0, 1]\n",
      "[1, 0, 0, 0]\n",
      "[0, 0, 1, 0]\n"
     ]
    }
   ],
   "source": [
    "def is_attack(i, j, board, N):\n",
    "  # checking for column j\n",
    "  for k in range(1, i):\n",
    "    if(board[k][j] == 1):\n",
    "      return True\n",
    "\n",
    "  # checking upper right diagonal\n",
    "  k = i-1\n",
    "  l = j+1\n",
    "  while (k>=1 and l<=N):\n",
    "    if (board[k][l] == 1):\n",
    "      return True\n",
    "    k=k+1\n",
    "    l=l+1\n",
    "\n",
    "  # checking upper left diagonal\n",
    "  k = i-1\n",
    "  l = j-1\n",
    "  while (k>=1 and l>=1):\n",
    "    if (board[k][l] == 1):\n",
    "      return True\n",
    "    k=k-1\n",
    "    l=l-1\n",
    "\n",
    "  return False\n",
    "\n",
    "def n_queen(row, n, N, board):\n",
    "  if (n==0):\n",
    "    return True\n",
    "\n",
    "  for j in range(1, N+1):\n",
    "    if(not(is_attack(row, j, board, N))):\n",
    "      board[row][j] = 1\n",
    "\n",
    "      if (n_queen(row+1, n-1, N, board)):\n",
    "        return True\n",
    "\n",
    "      board[row][j] = 0 #backtracking\n",
    "  return False\n",
    "\n",
    "if __name__ == '__main__':\n",
    "  board = [[0,0,0,0,0],[0,0,0,0,0],[0,0,0,0,0],[0,0,0,0,0],[0,0,0,0,0]]\n",
    "\n",
    "  n_queen(1, 4, 4, board)\n",
    "\n",
    "  #printing the matix\n",
    "  for i in range(1, 5):\n",
    "      print(board[i][1:])"
   ]
  }
 ],
 "metadata": {
  "kernelspec": {
   "display_name": "Python 3 (ipykernel)",
   "language": "python",
   "name": "python3"
  },
  "language_info": {
   "codemirror_mode": {
    "name": "ipython",
    "version": 3
   },
   "file_extension": ".py",
   "mimetype": "text/x-python",
   "name": "python",
   "nbconvert_exporter": "python",
   "pygments_lexer": "ipython3",
   "version": "3.9.12"
  }
 },
 "nbformat": 4,
 "nbformat_minor": 5
}
