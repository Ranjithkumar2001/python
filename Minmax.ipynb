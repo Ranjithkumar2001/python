{
 "cells": [
  {
   "cell_type": "code",
   "execution_count": 16,
   "id": "b51deb32",
   "metadata": {},
   "outputs": [
    {
     "name": "stdout",
     "output_type": "stream",
     "text": [
      "3, 3, -3, -3, -3, 4, 4, "
     ]
    }
   ],
   "source": [
    "class TreeNode: \n",
    "   def __init__(self, data, left = None, right = None): \n",
    "      self.val = data \n",
    "      self.left = left \n",
    "      self.right = right \n",
    "class Solution: \n",
    "   def helper(self, root, h, currentHeight): \n",
    "      if not root: \n",
    "         return \n",
    "      self.helper(root.left, h, currentHeight + 1) \n",
    "      self.helper(root.right, h, currentHeight + 1) \n",
    "      if currentHeight < h: \n",
    "         if currentHeight % 2 == 0: \n",
    "            if root.left and root.right: \n",
    "               root.val = max(root.left.val, root.right.val) \n",
    "            elif root.left: \n",
    "               root.val = root.left.val \n",
    "            elif root.right: \n",
    "               root.val = root.right.val \n",
    "         else: \n",
    "            if root.left and root.right:\n",
    "               root.val = min(root.left.val, root.right.val) \n",
    "            elif root.left: \n",
    "               root.val = root.left.val \n",
    "            elif root.right: \n",
    "               root.val = root.right.val \n",
    "   def height(self, root): \n",
    "      if not root: \n",
    "         return 0 \n",
    "      return 1 + max(self.height(root.left), self.height(root.right)) \n",
    "   def solve(self, root): \n",
    "      h = self.height(root) \n",
    "      self.helper(root, h, 0) \n",
    "      return root \n",
    "def print_tree(root): \n",
    "   if root is not None: \n",
    "      print_tree(root.left) \n",
    "      print(root.val, end = ', ')         \n",
    "      print_tree(root.right) \n",
    "ob = Solution() \n",
    "root = TreeNode(0) \n",
    "root.left = TreeNode(3) \n",
    "root.right = TreeNode(0) \n",
    "root.right.left = TreeNode(0) \n",
    "root.right.right = TreeNode(0) \n",
    "root.right.left.left = TreeNode(-3)\n",
    "root.right.right.right = TreeNode(4) \n",
    "print_tree(ob.solve(root))"
   ]
  }
 ],
 "metadata": {
  "kernelspec": {
   "display_name": "Python 3 (ipykernel)",
   "language": "python",
   "name": "python3"
  },
  "language_info": {
   "codemirror_mode": {
    "name": "ipython",
    "version": 3
   },
   "file_extension": ".py",
   "mimetype": "text/x-python",
   "name": "python",
   "nbconvert_exporter": "python",
   "pygments_lexer": "ipython3",
   "version": "3.9.12"
  }
 },
 "nbformat": 4,
 "nbformat_minor": 5
}
